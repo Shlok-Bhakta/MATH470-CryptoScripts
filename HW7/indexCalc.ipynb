{
 "cells": [
  {
   "cell_type": "code",
   "execution_count": 53,
   "metadata": {},
   "outputs": [],
   "source": [
    "import math\n",
    "import random"
   ]
  },
  {
   "cell_type": "code",
   "execution_count": 54,
   "metadata": {},
   "outputs": [],
   "source": [
    "import os\n",
    "# brute prime generator\n",
    "def brutePrime():\n",
    "    path = \"../cachedPrimes.csv\"\n",
    "    if os.path.isfile(path):\n",
    "        f = open(path,\"r\")\n",
    "        data = f.read().split(\",\")[:-1]\n",
    "        for i in range(len(data)):\n",
    "            data[i] = int(data[i])\n",
    "        f.close()\n",
    "        return data\n",
    "    else:\n",
    "        f = open(path,\"w\")\n",
    "        primes = []\n",
    "        for i in range(2, 10000000):\n",
    "            for j in range(2, int(i/2+1)):\n",
    "                if(i % j == 0):\n",
    "                    break; \n",
    "            else:\n",
    "                print(i, \"is prime!\")\n",
    "                primes.append(i)\n",
    "                f.write(f\"{i},\")\n",
    "        f.close()\n",
    "        return primes\n",
    "primeNums = brutePrime()\n",
    "\n",
    "def factorNum(composite):\n",
    "    factors = []\n",
    "    while composite != 1:\n",
    "        for i in primeNums:\n",
    "            if(i > composite):\n",
    "                break\n",
    "            if(composite % i == 0):\n",
    "                factors.append(i)\n",
    "                composite /= i\n",
    "                break\n",
    "        else:\n",
    "            print(\"not enough calculated primes maybe\")\n",
    "            return []\n",
    "    return factors"
   ]
  },
  {
   "cell_type": "code",
   "execution_count": 55,
   "metadata": {},
   "outputs": [
    {
     "name": "stdout",
     "output_type": "stream",
     "text": [
      "[2, 3, 5, 7]\n"
     ]
    }
   ],
   "source": [
    "# a^x = b mod p\n",
    "a = 7\n",
    "p = 41\n",
    "\n",
    "# prime ceiling number\n",
    "B = 10\n",
    "# amount of numbers to test\n",
    "tNum = 3\n",
    "\n",
    "allowedPrimes = []\n",
    "for i in primeNums:\n",
    "    if (i < B):\n",
    "        allowedPrimes.append(i);\n",
    "    else:\n",
    "        break\n",
    "print(allowedPrimes)"
   ]
  },
  {
   "cell_type": "code",
   "execution_count": 56,
   "metadata": {},
   "outputs": [
    {
     "name": "stdout",
     "output_type": "stream",
     "text": [
      "7^1 = {7: 1}\n",
      "7^2 = {2: 3}\n",
      "7^3 = {3: 1, 5: 1}\n",
      "{1: {7: 1}, 2: {2: 3}, 3: {3: 1, 5: 1}}\n"
     ]
    }
   ],
   "source": [
    "# a^k mod p for tNum values\n",
    "akmps = dict()\n",
    "k = 1\n",
    "while len(akmps) < tNum:\n",
    "    # factor a^k mod p\n",
    "    akmp = pow(a, k, p)\n",
    "    pFactors = factorNum(akmp)\n",
    "    valid = True\n",
    "    # check if the factors are valid and below the b value chosen at the start\n",
    "    for i in pFactors:\n",
    "        if i in allowedPrimes:\n",
    "            continue\n",
    "        else:\n",
    "            valid = False\n",
    "            break\n",
    "    # if there is a factor greater than b then go to the next one\n",
    "    if not valid:\n",
    "        k +=1\n",
    "        continue\n",
    "\n",
    "    # convert into hashmap to keep a count of how many of each power shows up\n",
    "    qs = dict()\n",
    "    items = list(set(pFactors))\n",
    "    # init the set with 0 for all the different values un the pfactors list\n",
    "    for i in items:\n",
    "        qs[i] = 0\n",
    "    # set the count to the correct amount for the items\n",
    "    for i in pFactors:\n",
    "        qs[i] += 1\n",
    "    akmps[k] = qs\n",
    "    print(f\"{a}^{k} = {qs}\")\n",
    "    k +=1\n",
    "\n",
    "print(akmps)    "
   ]
  },
  {
   "cell_type": "markdown",
   "metadata": {},
   "source": [
    "Precomputation"
   ]
  },
  {
   "cell_type": "code",
   "execution_count": 59,
   "metadata": {},
   "outputs": [
    {
     "name": "stdout",
     "output_type": "stream",
     "text": [
      "Invalid log_7(2) != 1\n",
      "3 -1 40\n",
      "invalid check, log_7(5) != 16 mod 40\n",
      "2 -1 40\n",
      "invalid value from log_7(3)\n"
     ]
    }
   ],
   "source": [
    "akmps = {1:{2:1}, 8:{5:3}, 12:{5:1, 7:1}, 14:{3:2}, 34:{3:1,5:2}}\n",
    "compVals = dict()\n",
    "it = 0\n",
    "for key, val in akmps.items():\n",
    "    # if there is only one subkey and it has a power then find inverse of the power and multiply with the key\n",
    "    if len(akmps[key]) == 1:\n",
    "        for sk, sv in akmps[key].items():\n",
    "            if sv == 1:\n",
    "                # validate value\n",
    "                if(math.log(sk, a) == key):\n",
    "                    compVals[sk] = sv\n",
    "                    print(f\"added a value log_{a}({sk})\")\n",
    "                else:\n",
    "                    print(f\"Invalid log_{a}({sk}) != {key}\")\n",
    "            else:\n",
    "                # calculate the inverse\n",
    "                print(sv, -1, p-1)\n",
    "                try:\n",
    "                    inverse = pow(sv, -1, p-1)\n",
    "                    result = pow(inverse * key, 1, p-1)\n",
    "                    # validate items\n",
    "                    if(pow(a, result, p) == sk):\n",
    "                        print(f\"added a value log_{a}({sk} = {result})\")\n",
    "                        compVals[sk] = result\n",
    "                    else:\n",
    "                        print(f\"invalid check, log_{a}({sk}) != {result} mod {p-1}\")\n",
    "                except:\n",
    "                    print(f\"invalid value from log_{a}({sk})\")\n",
    "    else:\n",
    "        # multiple elements\n",
    "        for sk, sv in akmps[key].items():\n",
    "            if sk in compVals:\n",
    "                print(f\"sk is here {sk}\")\n",
    "        # taking too long might come back later"
   ]
  },
  {
   "cell_type": "code",
   "execution_count": 84,
   "metadata": {},
   "outputs": [
    {
     "name": "stdout",
     "output_type": "stream",
     "text": [
      "bingo\n",
      "39\n"
     ]
    }
   ],
   "source": [
    "b = 29\n",
    "arr = []\n",
    "i = 0\n",
    "while True:\n",
    "    arr = factorNum(pow(b * pow(a, i), 1, p))\n",
    "    if(arr == [2, 5]):\n",
    "        print(i)\n",
    "        break\n",
    "    i+=1\n"
   ]
  },
  {
   "cell_type": "code",
   "execution_count": 68,
   "metadata": {},
   "outputs": [
    {
     "ename": "ValueError",
     "evalue": "base is not invertible for the given modulus",
     "output_type": "error",
     "traceback": [
      "\u001b[1;31m---------------------------------------------------------------------------\u001b[0m",
      "\u001b[1;31mValueError\u001b[0m                                Traceback (most recent call last)",
      "Cell \u001b[1;32mIn[68], line 1\u001b[0m\n\u001b[1;32m----> 1\u001b[0m \u001b[38;5;28mprint\u001b[39m(\u001b[38;5;28;43mpow\u001b[39;49m\u001b[43m(\u001b[49m\u001b[38;5;241;43m2\u001b[39;49m\u001b[43m,\u001b[49m\u001b[43m \u001b[49m\u001b[38;5;241;43m-\u001b[39;49m\u001b[38;5;241;43m1\u001b[39;49m\u001b[43m,\u001b[49m\u001b[43m \u001b[49m\u001b[38;5;241;43m40\u001b[39;49m\u001b[43m)\u001b[49m)\n",
      "\u001b[1;31mValueError\u001b[0m: base is not invertible for the given modulus"
     ]
    }
   ],
   "source": [
    "print(pow(2, -1, 40))"
   ]
  }
 ],
 "metadata": {
  "kernelspec": {
   "display_name": ".venv",
   "language": "python",
   "name": "python3"
  },
  "language_info": {
   "codemirror_mode": {
    "name": "ipython",
    "version": 3
   },
   "file_extension": ".py",
   "mimetype": "text/x-python",
   "name": "python",
   "nbconvert_exporter": "python",
   "pygments_lexer": "ipython3",
   "version": "3.11.1"
  }
 },
 "nbformat": 4,
 "nbformat_minor": 2
}
