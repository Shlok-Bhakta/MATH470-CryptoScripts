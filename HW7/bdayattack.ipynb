{
 "cells": [
  {
   "cell_type": "code",
   "execution_count": null,
   "metadata": {},
   "outputs": [],
   "source": [
    "import math\n",
    "acc = 0\n",
    "target = 0.9\n",
    "valueCount = pow(10, 20)\n",
    "number = 0\n",
    "while 1-acc > target:\n",
    "    acc *= 1-(number/valueCount)\n",
    "    number+=1\n",
    "    print(acc, number)\n",
    "    \n",
    "print(f\"accieved accuracy of 1-{acc} which is {1-acc} with {number} items\");\n",
    "print(acc, target, valueCount, number);\n",
    "\n",
    "    "
   ]
  },
  {
   "cell_type": "markdown",
   "metadata": {},
   "source": [
    "ran this for around 20 minutes not even close so there goes my experiment. Going to use the formula instead"
   ]
  }
 ],
 "metadata": {
  "kernelspec": {
   "display_name": ".venv",
   "language": "python",
   "name": "python3"
  },
  "language_info": {
   "codemirror_mode": {
    "name": "ipython",
    "version": 3
   },
   "file_extension": ".py",
   "mimetype": "text/x-python",
   "name": "python",
   "nbconvert_exporter": "python",
   "pygments_lexer": "ipython3",
   "version": "3.11.1"
  }
 },
 "nbformat": 4,
 "nbformat_minor": 2
}
