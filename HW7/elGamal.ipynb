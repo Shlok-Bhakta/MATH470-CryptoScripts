{
 "cells": [
  {
   "cell_type": "code",
   "execution_count": 5,
   "metadata": {},
   "outputs": [],
   "source": [
    "# bobs public parameters\n",
    "p = 987607\n",
    "a = 3\n",
    "b = 545191"
   ]
  },
  {
   "cell_type": "markdown",
   "metadata": {},
   "source": [
    "lets send bob a message"
   ]
  },
  {
   "cell_type": "code",
   "execution_count": 7,
   "metadata": {},
   "outputs": [
    {
     "name": "stdout",
     "output_type": "stream",
     "text": [
      "Sending 170577, 502737 to bob...\n"
     ]
    }
   ],
   "source": [
    "# we need 2 values r and t\n",
    "# Message\n",
    "m = \"yes\"\n",
    "# Message in numbers\n",
    "x = \"\"\n",
    "for i in m:\n",
    "    t = str(ord(i)-96)\n",
    "    if(len(t) == 1):\n",
    "        x += \"0\"\n",
    "    x += t\n",
    "x = int(x)\n",
    "\n",
    "# random number\n",
    "k = 505825\n",
    "\n",
    "r = pow(a, k, p)\n",
    "bpowk = pow(b, k, p)\n",
    "t = pow(bpowk * x, 1, p)\n",
    "\n",
    "print(f\"Sending {r}, {t} to bob...\")"
   ]
  },
  {
   "cell_type": "markdown",
   "metadata": {},
   "source": [
    "now we are bob and just got a different message"
   ]
  },
  {
   "cell_type": "code",
   "execution_count": 8,
   "metadata": {},
   "outputs": [
    {
     "name": "stdout",
     "output_type": "stream",
     "text": [
      "41507\n"
     ]
    }
   ],
   "source": [
    "r = 679663\n",
    "t = 322879\n",
    "\n",
    "# bobs secret b\n",
    "a = 204667\n",
    "\n",
    "rinva = pow(r,-a,p)\n",
    "message = pow(rinva * t, 1, p) \n",
    "print(message)"
   ]
  },
  {
   "cell_type": "markdown",
   "metadata": {},
   "source": [
    "4 15 0 7 translates to about epah or eph if you read it as 4 15 07 which im not sure is right but I can't seem to find any bugs so maybe its right??"
   ]
  }
 ],
 "metadata": {
  "kernelspec": {
   "display_name": ".venv",
   "language": "python",
   "name": "python3"
  },
  "language_info": {
   "codemirror_mode": {
    "name": "ipython",
    "version": 3
   },
   "file_extension": ".py",
   "mimetype": "text/x-python",
   "name": "python",
   "nbconvert_exporter": "python",
   "pygments_lexer": "ipython3",
   "version": "3.11.1"
  }
 },
 "nbformat": 4,
 "nbformat_minor": 2
}
