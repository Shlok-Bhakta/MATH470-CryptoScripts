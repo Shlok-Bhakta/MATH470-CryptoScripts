{
 "cells": [
  {
   "cell_type": "code",
   "execution_count": 1,
   "metadata": {},
   "outputs": [],
   "source": [
    "import math"
   ]
  },
  {
   "cell_type": "code",
   "execution_count": 2,
   "metadata": {},
   "outputs": [
    {
     "name": "stdout",
     "output_type": "stream",
     "text": [
      "2 10\n",
      "result 122\n"
     ]
    }
   ],
   "source": [
    "# a^x = b mod p\n",
    "a = 3\n",
    "b = 11\n",
    "p = 137\n",
    "# set n to be roughly sqrt of p rounded up\n",
    "N = math.ceil(math.sqrt(p))\n",
    "\n",
    "# getting the a^j mod p nd put into a list\n",
    "l1 = []\n",
    "jvals = range(N)\n",
    "for j in range(N+1):\n",
    "    result = pow(a, j, p)\n",
    "    l1.append(result)\n",
    "    # print(result)\n",
    "\n",
    "# print(\"---------\")\n",
    "\n",
    "# getting the ba^-Nk mod p and put into a list\n",
    "l2 = []\n",
    "kvals = range(N)\n",
    "for k in range(N+1):\n",
    "    aInv = pow(a, -1, p)\n",
    "    ankInv = pow(aInv, N*k, p)\n",
    "    result = (b * ankInv) % p\n",
    "    l2.append(result)\n",
    "    # print(result)\n",
    "    \n",
    "#finding a match and doing x = j + Nk to get x\n",
    "resfound = False\n",
    "for i in range(len(l1)):\n",
    "    for j in range(len(l2)):\n",
    "        if(l1[i] == l2[j]):\n",
    "            print(i, j)\n",
    "            print(\"result\", (i + (N * j)))\n",
    "            resfound = True\n",
    "    if resfound:\n",
    "        break\n",
    "            \n",
    "\n",
    "# the verdict is that this was insanly faster to implement the PohligHellman"
   ]
  }
 ],
 "metadata": {
  "kernelspec": {
   "display_name": ".venv",
   "language": "python",
   "name": "python3"
  },
  "language_info": {
   "codemirror_mode": {
    "name": "ipython",
    "version": 3
   },
   "file_extension": ".py",
   "mimetype": "text/x-python",
   "name": "python",
   "nbconvert_exporter": "python",
   "pygments_lexer": "ipython3",
   "version": "3.11.1"
  }
 },
 "nbformat": 4,
 "nbformat_minor": 2
}
