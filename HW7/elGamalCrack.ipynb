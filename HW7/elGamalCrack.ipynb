{
 "cells": [
  {
   "cell_type": "code",
   "execution_count": 18,
   "metadata": {},
   "outputs": [],
   "source": [
    "import math"
   ]
  },
  {
   "cell_type": "markdown",
   "metadata": {},
   "source": [
    "Sender - Alice"
   ]
  },
  {
   "cell_type": "code",
   "execution_count": 19,
   "metadata": {},
   "outputs": [],
   "source": [
    "prime = 123457\n",
    "beta = 94622\n",
    "alpha = 5"
   ]
  },
  {
   "cell_type": "markdown",
   "metadata": {},
   "source": [
    "Packet Generation"
   ]
  },
  {
   "cell_type": "code",
   "execution_count": 20,
   "metadata": {},
   "outputs": [],
   "source": [
    "# it is given that\n",
    "r = 125\n",
    "t = 118586\n",
    "# x is the secret we need to find\n",
    "x = 0"
   ]
  },
  {
   "cell_type": "markdown",
   "metadata": {},
   "source": [
    "To crack it you just need to find the b val to solve tr^b = m mod p\n",
    "\n",
    "to get b you need to solve beta = alpha^b mod p"
   ]
  },
  {
   "cell_type": "code",
   "execution_count": 24,
   "metadata": {},
   "outputs": [
    {
     "name": "stdout",
     "output_type": "stream",
     "text": [
      "101 19\n",
      "Bobs secret b: 6789\n"
     ]
    }
   ],
   "source": [
    "# going to use baby step giant step with this because the code is just shorter\n",
    "# a^x = b mod p\n",
    "a = alpha\n",
    "b = beta\n",
    "p = prime\n",
    "# set n to be roughly sqrt of p rounded up\n",
    "N = math.ceil(math.sqrt(p))\n",
    "\n",
    "# getting the a^j mod p nd put into a list\n",
    "l1 = []\n",
    "jvals = range(N)\n",
    "for j in range(N+1):\n",
    "    result = pow(a, j, p)\n",
    "    l1.append(result)\n",
    "    # print(result)\n",
    "\n",
    "# print(\"---------\")\n",
    "\n",
    "# getting the ba^-Nk mod p and put into a list\n",
    "l2 = []\n",
    "kvals = range(N)\n",
    "for k in range(N+1):\n",
    "    aInv = pow(a, -1, p)\n",
    "    ankInv = pow(aInv, N*k, p)\n",
    "    result = (b * ankInv) % p\n",
    "    l2.append(result)\n",
    "    # print(result)\n",
    "    \n",
    "#finding a match and doing x = j + Nk to get x\n",
    "resfound = False\n",
    "for i in range(len(l1)):\n",
    "    for j in range(len(l2)):\n",
    "        if(l1[i] == l2[j]):\n",
    "            print(i, j)\n",
    "            print(\"Bobs secret b:\", (i + (N * j)))\n",
    "            x = (i + (N * j))\n",
    "            resfound = True\n",
    "    if resfound:\n",
    "        break"
   ]
  },
  {
   "cell_type": "markdown",
   "metadata": {},
   "source": [
    "we were able to find the b value. So now, it is trivial to obtain the original message"
   ]
  },
  {
   "cell_type": "code",
   "execution_count": 29,
   "metadata": {},
   "outputs": [
    {
     "name": "stdout",
     "output_type": "stream",
     "text": [
      "9999\n"
     ]
    }
   ],
   "source": [
    "# had to chose x as variable name instead of b as it was being used, thats why I say b but the value being used is x\n",
    "# gets the r^-b value then mods by p\n",
    "invrb = pow(r, -x, p)\n",
    "# multuplies t * r^-b then mods by p\n",
    "m = pow(t * invrb, 1, p)\n",
    "\n",
    "print(m)"
   ]
  },
  {
   "cell_type": "markdown",
   "metadata": {},
   "source": [
    "I got 9 9 9 9 which is just jjjj so I am a bit sceptical but the math seems to be checking out?"
   ]
  }
 ],
 "metadata": {
  "kernelspec": {
   "display_name": ".venv",
   "language": "python",
   "name": "python3"
  },
  "language_info": {
   "codemirror_mode": {
    "name": "ipython",
    "version": 3
   },
   "file_extension": ".py",
   "mimetype": "text/x-python",
   "name": "python",
   "nbconvert_exporter": "python",
   "pygments_lexer": "ipython3",
   "version": "3.11.1"
  }
 },
 "nbformat": 4,
 "nbformat_minor": 2
}
