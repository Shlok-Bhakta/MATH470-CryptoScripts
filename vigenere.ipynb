{
 "cells": [
  {
   "cell_type": "code",
   "execution_count": 14,
   "metadata": {},
   "outputs": [],
   "source": [
    "import matplotlib.pyplot as plt"
   ]
  },
  {
   "cell_type": "code",
   "execution_count": 77,
   "metadata": {},
   "outputs": [],
   "source": [
    "text = \"alpthvwxlweuvvxhvjdtjvpidvtiprrglufxyioapxealqzglxsputpchroehtpgalpbhmyrsedhpglajmawlvenwidpyieghrdevwtipsyrptstywhwpgsglecghrrtalpdyhpgvjwtaxpgzmyptidhhkppuhdjiwexayexvrnxwlpgzasxjldnzxpbhxtrhpwnyiaahgpalxetywzgnvzjwwzusieilvdlpxsdalpgsieilvddykcdbtddmppiaichicctwplrprrthgsalxetyatioxstvrpuvpwddmyvpxtcalppstspiiehpqaalzpgzmzczsqtpxstysqulvpssmeisindujtslrexhptifeyszxtashzcvxlclecafwfqzxtibxtdugteoiclhwewlgltzecrptstymylomnwlenwsieilvtcalpesetcaiiidedgltwpjioqfewtaxpgzsxtmmitkrfbiicdmtzhpxtduwqjyxstyhzluxsthpawhfpipxhpzrlblhluaicybptjzgltzeclosthyiadyxpsasspcifhlhtidmewhwsxmxzualctlxzrvqxjumnpaihxalsxzkpclvlazhfgprrwpwxxsmepycnpttlxnrd\"\n",
    "blockSize = 4\n",
    "startChar = 0\n",
    "numList = []\n",
    "# picks every 4th letter (plus an offset) and puts it into a list\n",
    "for i in range(blockSize):\n",
    "    for j in range(startChar, len(text), blockSize):\n",
    "        numList.append(text[j])\n",
    "numList.sort()"
   ]
  },
  {
   "cell_type": "code",
   "execution_count": 78,
   "metadata": {},
   "outputs": [
    {
     "name": "stderr",
     "output_type": "stream",
     "text": [
      "C:\\Users\\shlok\\AppData\\Local\\Temp\\ipykernel_23252\\137009218.py:5: UserWarning: FigureCanvasAgg is non-interactive, and thus cannot be shown\n",
      "  fig.show()\n"
     ]
    },
    {
     "data": {
      "image/png": "[encoded data removed]",
      "text/plain": [
       "<Figure size 640x480 with 1 Axes>"
      ]
     },
     "metadata": {},
     "output_type": "display_data"
    }
   ],
   "source": [
    "# a graph of the list is shown so that I can compare with the english language graph\n",
    "fig, ax = plt.subplots()\n",
    "histcategory = [\"a\", \"b\", \"c\", \"d\", \"e\", \"f\", \"g\", \"h\", \"i\", \"j\", \"k\", \"l\", \"m\", \"n\", \"o\", \"p\", \"q\", \"r\", \"s\", \"t\", \"u\", \"v\", \"w\", \"x\", \"y\", \"z\"]\n",
    "n, bins, patches = ax.hist(numList, 26)\n",
    "fig.show()"
   ]
  },
  {
   "cell_type": "code",
   "execution_count": 79,
   "metadata": {},
   "outputs": [
    {
     "name": "stdout",
     "output_type": "stream",
     "text": [
      "theearliestformsofsecretwritingrequiredlittlemorethanpenandpaperthemainclassicalciphertypesaretranspositioncipherswhichrearrangetheorderoflettersinamessageandsubstitutioncipherswhichsystematicallyreplacelettersorgroupsofletterswithotherlettersorgroupsoflettersbyreplacingeachletterwiththeonefollowingitinthealphabetsimpleversionsofeitherofferedlittleconfidentialityandstilldonotanearlysubstitutioncipherwasthecaesarcipherinwhicheachletterintheplaintextwasreplacedbyalettersomefixednumberofpositionsfurtherdownthealphabetitwasnamedafterjuliuscaesarwhoisreportedtohaveuseditwithashiftofthreetocommunicatewithhisgeneralsduringhismilitarycampaigns"
     ]
    }
   ],
   "source": [
    "# key is entered in and the original text is decoded into the answer\n",
    "key = \"help\"\n",
    "keyInd = 0 \n",
    "for i in range(len(text)):\n",
    "    textnum = ord(text[i]) - 97\n",
    "    keynum = ord(key[keyInd]) - 97\n",
    "    charNum = ( textnum- keynum) % 26\n",
    "    print(chr(charNum + 97), end=\"\")\n",
    "    keyInd = keyInd + 1\n",
    "    keyInd %= len(key)\n",
    "    \n",
    "    \n"
   ]
  },
  {
   "cell_type": "markdown",
   "metadata": {},
   "source": [
    "#Result\n",
    "---\n",
    "\n",
    "theearliestformsofsecretwritingrequiredlittlemorethanpenandpaperthemainclassicalciphertypesaretranspositioncipherswhichrearrangetheorderoflettersinamessageandsubstitutioncipherswhichsystematicallyreplacelettersorgroupsofletterswithotherlettersorgroupsoflettersbyreplacingeachletterwiththeonefollowingitinthealphabetsimpleversionsofeitherofferedlittleconfidentialityandstilldonotanearlysubstitutioncipherwasthecaesarcipherinwhicheachletterintheplaintextwasreplacedbyalettersomefixednumberofpositionsfurtherdownthealphabetitwasnamedafterjuliuscaesarwhoisreportedtohaveuseditwithashiftofthreetocommunicatewithhisgeneralsduringhismilitarycampaigns"
   ]
  }
 ],
 "metadata": {
  "kernelspec": {
   "display_name": ".venv",
   "language": "python",
   "name": "python3"
  },
  "language_info": {
   "codemirror_mode": {
    "name": "ipython",
    "version": 3
   },
   "file_extension": ".py",
   "mimetype": "text/x-python",
   "name": "python",
   "nbconvert_exporter": "python",
   "pygments_lexer": "ipython3",
   "version": "3.11.1"
  }
 },
 "nbformat": 4,
 "nbformat_minor": 2
}
