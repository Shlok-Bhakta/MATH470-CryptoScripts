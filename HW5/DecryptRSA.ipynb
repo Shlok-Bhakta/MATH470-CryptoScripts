{
 "cells": [
  {
   "cell_type": "code",
   "execution_count": 1,
   "metadata": {},
   "outputs": [],
   "source": [
    "n = 143\n",
    "p = 13\n",
    "q = 11\n",
    "e = 7\n",
    "phi = (p -1) * (q - 1)"
   ]
  },
  {
   "cell_type": "markdown",
   "metadata": {},
   "source": [
    "# Find D\n",
    "Now we need to find a D value that makes (d * e) = 1 (mod phi)\n",
    "\n",
    "7d * 120 = 1(mod 120)"
   ]
  },
  {
   "cell_type": "code",
   "execution_count": 6,
   "metadata": {},
   "outputs": [
    {
     "name": "stdout",
     "output_type": "stream",
     "text": [
      "d equals: 103\n"
     ]
    }
   ],
   "source": [
    "for d in range(1000):\n",
    "    if(((d * e) % phi) == 1):\n",
    "        print(\"d equals:\", d)\n",
    "        break\n",
    "    else:\n",
    "        continue"
   ]
  }
 ],
 "metadata": {
  "kernelspec": {
   "display_name": ".venv",
   "language": "python",
   "name": "python3"
  },
  "language_info": {
   "codemirror_mode": {
    "name": "ipython",
    "version": 3
   },
   "file_extension": ".py",
   "mimetype": "text/x-python",
   "name": "python",
   "nbconvert_exporter": "python",
   "pygments_lexer": "ipython3",
   "version": "3.11.1"
  }
 },
 "nbformat": 4,
 "nbformat_minor": 2
}
