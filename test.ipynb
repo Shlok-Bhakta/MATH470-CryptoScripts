{
 "cells": [
  {
   "cell_type": "code",
   "execution_count": 8,
   "metadata": {},
   "outputs": [
    {
     "name": "stdout",
     "output_type": "stream",
     "text": [
      "17\n",
      "8:i| diff: 9"
     ]
    }
   ],
   "source": [
    "char = ord(\"r\") - 97\n",
    "newChar = (char * 2) % 26\n",
    "print(char)\n",
    "print(str(newChar) + \":\" + str(chr(newChar + 97) + f\"| diff: {char - newChar}\"), end=\"\")"
   ]
  }
 ],
 "metadata": {
  "kernelspec": {
   "display_name": ".venv",
   "language": "python",
   "name": "python3"
  },
  "language_info": {
   "codemirror_mode": {
    "name": "ipython",
    "version": 3
   },
   "file_extension": ".py",
   "mimetype": "text/x-python",
   "name": "python",
   "nbconvert_exporter": "python",
   "pygments_lexer": "ipython3",
   "version": "3.11.1"
  }
 },
 "nbformat": 4,
 "nbformat_minor": 2
}
