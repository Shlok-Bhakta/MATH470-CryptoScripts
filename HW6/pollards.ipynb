{
 "cells": [
  {
   "cell_type": "code",
   "execution_count": 1,
   "metadata": {},
   "outputs": [],
   "source": [
    "import math"
   ]
  },
  {
   "cell_type": "code",
   "execution_count": 2,
   "metadata": {},
   "outputs": [],
   "source": [
    "n = 17513\n",
    "a = 10"
   ]
  },
  {
   "cell_type": "markdown",
   "metadata": {},
   "source": [
    "This is my Pollard Function\n",
    "\n",
    "it takes in the a value from above and the composite number we need to factor\n",
    "\n",
    "it outputs a factor of the composite number\n",
    "\n",
    "It works by looping from 2..9 (2,3,4,5,6,7,8,9)\n",
    "\n",
    "- find b in the formula b = a^(k!) where a is provided and k is generated during the loop\n",
    "\n",
    "- then gets the gcd(b-1, n) where b is calculated above and n is the composite number we want to factor\n",
    "\n",
    "- stop checking when the gcd is not 1\n",
    "\n",
    "- returns the gcd as that is one of the factors"
   ]
  },
  {
   "cell_type": "code",
   "execution_count": 3,
   "metadata": {},
   "outputs": [],
   "source": [
    "def pollard(a, composite):\n",
    "    for k in range(2, 10):\n",
    "        b = a ** math.factorial(k)\n",
    "        b -= 1\n",
    "        b %= composite\n",
    "        res = math.gcd(int(b), composite)\n",
    "        if(res != 1):\n",
    "            break\n",
    "        else:\n",
    "            print(\"not\", k)\n",
    "            \n",
    "    return res"
   ]
  },
  {
   "cell_type": "code",
   "execution_count": 4,
   "metadata": {},
   "outputs": [
    {
     "name": "stdout",
     "output_type": "stream",
     "text": [
      "not 2\n",
      "not 3\n",
      "not 4\n",
      "211\n"
     ]
    }
   ],
   "source": [
    "compositeNum = n\n",
    "pollardResult = pollard(a, compositeNum)\n",
    "print(pollardResult)"
   ]
  },
  {
   "cell_type": "markdown",
   "metadata": {},
   "source": [
    "now I know that 211 is one of the factors of 17513\n",
    "now I divide 17513 by 211 and check if its prime"
   ]
  },
  {
   "cell_type": "code",
   "execution_count": 5,
   "metadata": {},
   "outputs": [
    {
     "name": "stdout",
     "output_type": "stream",
     "text": [
      "83 is a Prime!\n"
     ]
    }
   ],
   "source": [
    "potentialPrime = compositeNum // pollardResult\n",
    "for j in range(2, potentialPrime // 2 + 1):\n",
    "    if(potentialPrime % j == 0):\n",
    "        break; \n",
    "else:\n",
    "    print(potentialPrime ,\"is a Prime!\")"
   ]
  },
  {
   "cell_type": "markdown",
   "metadata": {},
   "source": [
    "with this Both of my numbers are prime and there are no more composite numbers to check so the factors have to be 211 and 83\n",
    "\n",
    ">Final Ans: 211 * 83"
   ]
  }
 ],
 "metadata": {
  "kernelspec": {
   "display_name": ".venv",
   "language": "python",
   "name": "python3"
  },
  "language_info": {
   "codemirror_mode": {
    "name": "ipython",
    "version": 3
   },
   "file_extension": ".py",
   "mimetype": "text/x-python",
   "name": "python",
   "nbconvert_exporter": "python",
   "pygments_lexer": "ipython3",
   "version": "3.10.12"
  }
 },
 "nbformat": 4,
 "nbformat_minor": 2
}
