{
 "cells": [
  {
   "cell_type": "markdown",
   "metadata": {},
   "source": [
    "## The Pohlig Hellman algorithm Python Implementation"
   ]
  },
  {
   "cell_type": "code",
   "execution_count": 1,
   "metadata": {},
   "outputs": [],
   "source": [
    "import math\n",
    "# format: b = (a ^ x) mod p\n",
    "a = 13\n",
    "p = 19\n",
    "b = 6"
   ]
  },
  {
   "cell_type": "markdown",
   "metadata": {},
   "source": [
    "Step 1: Factor P-1"
   ]
  },
  {
   "cell_type": "code",
   "execution_count": 2,
   "metadata": {},
   "outputs": [],
   "source": [
    "import os\n",
    "# brute prime generator\n",
    "def brutePrime():\n",
    "    path = \"../cachedPrimes.csv\"\n",
    "    if os.path.isfile(path):\n",
    "        f = open(path,\"r\")\n",
    "        data = f.read().split(\",\")[:-1]\n",
    "        for i in range(len(data)):\n",
    "            data[i] = int(data[i])\n",
    "        f.close()\n",
    "        return data\n",
    "    else:\n",
    "        f = open(path,\"w\")\n",
    "        primes = []\n",
    "        for i in range(2, 10000000):\n",
    "            for j in range(2, int(i/2+1)):\n",
    "                if(i % j == 0):\n",
    "                    break; \n",
    "            else:\n",
    "                print(i, \"is prime!\")\n",
    "                primes.append(i)\n",
    "                f.write(f\"{i},\")\n",
    "        f.close()\n",
    "        return primes\n",
    "primeNums = brutePrime()\n",
    "\n",
    "def factorNum(composite):\n",
    "    factors = []\n",
    "    while composite != 1:\n",
    "        for i in primeNums:\n",
    "            if(i > composite):\n",
    "                break\n",
    "            if(composite % i == 0):\n",
    "                factors.append(i)\n",
    "                composite /= i\n",
    "                break\n",
    "        else:\n",
    "            print(\"not enough calculated primes maybe\")\n",
    "            return []\n",
    "    return factors\n"
   ]
  },
  {
   "cell_type": "code",
   "execution_count": 3,
   "metadata": {},
   "outputs": [
    {
     "name": "stdout",
     "output_type": "stream",
     "text": [
      "[2, 3, 3]\n",
      "{2: 1, 3: 2}\n"
     ]
    }
   ],
   "source": [
    "# factor p-1\n",
    "pFactors = factorNum(p-1)\n",
    "print(pFactors)\n",
    "# convert into hashmap to keep a count of how many of each power shows up\n",
    "qs = dict()\n",
    "items = list(set(pFactors))\n",
    "# init the set with 0 for all the different values un the pfactors list\n",
    "for i in items:\n",
    "    qs[i] = 0\n",
    "# set the count to the correct amount for the items\n",
    "for i in pFactors:\n",
    "    qs[i] += 1\n",
    "print(qs)"
   ]
  },
  {
   "cell_type": "markdown",
   "metadata": {},
   "source": [
    "Step 2: for each q value, compute the x in the formula sum i = 0 -> amount : x = (q^i) * x_i where x_i is b^((p-1)/q) = a^((p-1/q) * x_i)"
   ]
  },
  {
   "cell_type": "code",
   "execution_count": 4,
   "metadata": {},
   "outputs": [
    {
     "name": "stdout",
     "output_type": "stream",
     "text": [
      "[0, 1]\n",
      "[2, 9]\n"
     ]
    }
   ],
   "source": [
    "alpha = a\n",
    "beta = b\n",
    "prime = p\n",
    "xis = []\n",
    "xs = []\n",
    "mods = []\n",
    "for q in qs.keys():\n",
    "    x = 0\n",
    "    xit = []\n",
    "    powerR = ((prime-1) / q)\n",
    "    beta = b\n",
    "    xi = 0\n",
    "    for i in range(qs[q]):\n",
    "        xi = 0\n",
    "        if(i > 0):\n",
    "            # this is the alpha term where temp is the inverse of alpha and beta is the new beta for the next calculation\n",
    "            temp = pow(alpha, (-1 * xit[len(xit)-1]), prime)\n",
    "            beta = pow(int(beta*temp), 1, prime)\n",
    "        qPow = q ** i\n",
    "        power = ((prime-1) / q ** (i+1))\n",
    "        left = pow(int(beta),int(power), prime)\n",
    "        for guess in range(prime):\n",
    "            if(left == pow(int(alpha),int(powerR * guess), prime)):\n",
    "                xit.append(guess)\n",
    "                xi = guess\n",
    "                break\n",
    "        x += qPow * xi\n",
    "    xs.append(x)\n",
    "    xis.append(xit)\n",
    "\n",
    "\n",
    "# now we need to get a list of the modululi\n",
    "\n",
    "\n",
    "for key, value in qs.items():\n",
    "    mods.append(key ** value)\n",
    "\n",
    "print(xs)\n",
    "print(mods)"
   ]
  },
  {
   "cell_type": "markdown",
   "metadata": {},
   "source": [
    "Step 3: use x values alongside the chinese remainder theorem to compute the result"
   ]
  },
  {
   "cell_type": "code",
   "execution_count": 5,
   "metadata": {},
   "outputs": [],
   "source": [
    "def inverseCalc(N, mod):\n",
    "    N %= mod\n",
    "    for inv in range(mod):\n",
    "        if(((N * inv) % mod) == 1):\n",
    "            return inv\n",
    "        \n",
    "    else:\n",
    "        return -1\n",
    "\n",
    "def crt(vals, mods):\n",
    "    a = vals\n",
    "    m = mods\n",
    "    N = []\n",
    "    invN = []\n",
    "    M = 1\n",
    "    for i in m:\n",
    "        N.append(1)\n",
    "    for i in range(len(m)):\n",
    "        M *= m[i]\n",
    "        for j in range(len(m)):\n",
    "            if(j != i):\n",
    "                N[i] *= m[j]\n",
    "                \n",
    "    for i in range(len(N)):\n",
    "        invN.append(inverseCalc(N[i], m[i]))\n",
    "    print(a)\n",
    "    print(m)\n",
    "    print(N)\n",
    "    print(invN)\n",
    "    print(M)\n",
    "    \n",
    "    result = 0;\n",
    "    for i in range(len(a)):\n",
    "        result += a[i] * N[i] * invN[i]\n",
    "    \n",
    "    result %= M\n",
    "    return result\n",
    "                \n",
    "    "
   ]
  },
  {
   "cell_type": "code",
   "execution_count": 6,
   "metadata": {},
   "outputs": [
    {
     "name": "stdout",
     "output_type": "stream",
     "text": [
      "[0, 1]\n",
      "[2, 9]\n",
      "[9, 2]\n",
      "[1, 5]\n",
      "18\n"
     ]
    }
   ],
   "source": [
    "answer = crt(xs, mods)"
   ]
  },
  {
   "cell_type": "code",
   "execution_count": 7,
   "metadata": {},
   "outputs": [
    {
     "name": "stdout",
     "output_type": "stream",
     "text": [
      "Hence: 6=13^10 (mod 19)\n",
      "x = 10\n"
     ]
    }
   ],
   "source": [
    "print(f\"Hence: {b}={a}^{answer} (mod {p})\")\n",
    "print(f\"x = {answer}\")"
   ]
  }
 ],
 "metadata": {
  "kernelspec": {
   "display_name": ".venv",
   "language": "python",
   "name": "python3"
  },
  "language_info": {
   "codemirror_mode": {
    "name": "ipython",
    "version": 3
   },
   "file_extension": ".py",
   "mimetype": "text/x-python",
   "name": "python",
   "nbconvert_exporter": "python",
   "pygments_lexer": "ipython3",
   "version": "3.11.1"
  }
 },
 "nbformat": 4,
 "nbformat_minor": 2
}
